{
 "cells": [
  {
   "cell_type": "markdown",
   "metadata": {},
   "source": [
    "# Connection Pooling\n",
    "\n",
    "Little Lemon’s guests need to access the database for any booking or inquiry, for example, reading the menu. Little Lemon, therefore, needs to establish a connection between the Python and MySQL databases for every operation.  \n",
    "\n",
    "Establishing a connection every time is resource intensive and it is affecting the performance of the Little Lemon application. \n",
    "\n",
    "To improve the performance of the application, Little Lemon needs to establish a pool of database connections to facilitate the guests’ inquiries to the database. \n",
    "\n",
    "Let's establish a connection by importing `MySQLConnectionPool` and creating a pool with two connections."
   ]
  },
  {
   "cell_type": "code",
   "execution_count": 1,
   "metadata": {},
   "outputs": [
    {
     "name": "stdout",
     "output_type": "stream",
     "text": [
      "The connection pool is created with a name:  pool_a\n",
      "The pool size is: 2\n"
     ]
    }
   ],
   "source": [
    "from mysql.connector.pooling import MySQLConnectionPool\n",
    "from mysql.connector import Error\n",
    "\n",
    "dbconfig = {\n",
    "    \"database\":\"little_lemon_db\",\n",
    "    \"user\" : \"root\",\n",
    "    \"password\" : \" \"\n",
    "}\n",
    "\n",
    "try:\n",
    "    pool = MySQLConnectionPool(pool_name = \"pool_a\",\n",
    "                           pool_size = 2, #default is 5\n",
    "                           **dbconfig)\n",
    "    print(\"The connection pool is created with a name: \",pool.pool_name)\n",
    "    print(\"The pool size is:\",pool.pool_size)\n",
    "\n",
    "except Error as er:\n",
    "    print(\"Error code:\", er.errno)\n",
    "    print(\"Error message:\", er.msg)"
   ]
  },
  {
   "cell_type": "code",
   "execution_count": 2,
   "metadata": {},
   "outputs": [
    {
     "name": "stdout",
     "output_type": "stream",
     "text": [
      "A user with connection id 12 is connected to the database.\n",
      "MySQL server version is: 8.0.35\n",
      "Creating a cursor object.\n"
     ]
    }
   ],
   "source": [
    "connection1 = pool.get_connection()\n",
    "\n",
    "print(\"A user with connection id {} is connected to the database.\".format(connection1.connection_id))\n",
    "\n",
    "db_Info = connection1.get_server_info()\n",
    "print(\"MySQL server version is:\", db_Info)\n",
    "\n",
    "# Create cursor object to communicate with entire MySQL database\n",
    "\n",
    "print(\"Creating a cursor object.\")\n",
    "cursor = connection1.cursor()"
   ]
  },
  {
   "cell_type": "markdown",
   "metadata": {},
   "source": [
    "# Stored Procedures\n"
   ]
  },
  {
   "cell_type": "code",
   "execution_count": 3,
   "metadata": {},
   "outputs": [
    {
     "name": "stdout",
     "output_type": "stream",
     "text": [
      "('Booking Hour', 'Number of Bookings')\n",
      "(19, 2)\n",
      "(15, 1)\n",
      "(17, 1)\n",
      "(18, 1)\n",
      "(20, 1)\n"
     ]
    }
   ],
   "source": [
    "# This is the SQL query:\n",
    "\n",
    "Stored_procedure_query = \"\"\"\n",
    "CREATE PROCEDURE PeakHours()\n",
    "BEGIN\n",
    "    SELECT HOUR(BookingSlot) AS 'Booking Hour', count(*) AS 'Number of Bookings' from bookings\n",
    "    GROUP by BookingSlot\n",
    "    ORDER by count(*) DESC;\n",
    "END;\n",
    "\"\"\"\n",
    "# Invoke the execute module on the cursor:\n",
    "cursor.execute(Stored_procedure_query)\n",
    "\n",
    "# call the stored procedure:\n",
    "cursor.callproc(\"PeakHours\")\n",
    "\n",
    "results = next(cursor.stored_results() )\n",
    "\n",
    "dataset = results.fetchall()\n",
    "\n",
    "cols = results.column_names\n",
    "print(cols)\n",
    "\n",
    "for data in dataset:\n",
    "    print(data)"
   ]
  },
  {
   "cell_type": "code",
   "execution_count": 4,
   "metadata": {},
   "outputs": [
    {
     "name": "stdout",
     "output_type": "stream",
     "text": [
      "('Guest FullName', 'Order Status')\n",
      "('Joakim Iversen', 'Ready to pay')\n",
      "('Anna Iversen', 'Ready to pay')\n",
      "('Hiroki Yamane', 'Ready to pay')\n",
      "('Vanessa McCarthy', 'Ready to serve')\n",
      "('Marcos Romero', 'Preparing Order')\n",
      "('Diana Pinto', 'Order served')\n",
      "(None, 'Order served')\n"
     ]
    }
   ],
   "source": [
    "procedure_query = \"\"\"\n",
    "CREATE PROCEDURE GuestStatus()\n",
    "BEGIN\n",
    "    select \n",
    "        CONCAT(GuestFirstname, ' ', GuestLastName) AS \"Guest FullName\",\n",
    "        CASE \n",
    "            WHEN Role IN (\"Manager\", \"Assistant Manager\") THEN \"Ready to pay\"\n",
    "            WHEN Role = \"Head Chef\" THEN \"Ready to serve\"\n",
    "            WHEN Role = \"Assistant Chef\" THEN \"Preparing Order\"\n",
    "            ELSE \"Order served\"\n",
    "        END AS \"Order Status\" \n",
    "    from employees\n",
    "    LEFT JOIN bookings\n",
    "    ON employees.EmployeeID = bookings.EmployeeID;\n",
    "END;\n",
    "\"\"\"\n",
    "cursor.execute(procedure_query)\n",
    "\n",
    "cursor.callproc(\"GuestStatus\")\n",
    "\n",
    "results = next(cursor.stored_results() )\n",
    "\n",
    "dataset = results.fetchall()\n",
    "\n",
    "cols = results.column_names\n",
    "print(cols)\n",
    "\n",
    "for data in dataset:\n",
    "    print(data)"
   ]
  },
  {
   "cell_type": "markdown",
   "metadata": {},
   "source": [
    "Let's close the connection to return it back to the pool"
   ]
  },
  {
   "cell_type": "code",
   "execution_count": 5,
   "metadata": {},
   "outputs": [
    {
     "name": "stdout",
     "output_type": "stream",
     "text": [
      "Connection 12 closed\n"
     ]
    }
   ],
   "source": [
    "connection1.close\n",
    "print('Connection {} closed'.format(connection1.connection_id))\n"
   ]
  }
 ],
 "metadata": {
  "kernelspec": {
   "display_name": "Python 3",
   "language": "python",
   "name": "python3"
  },
  "language_info": {
   "codemirror_mode": {
    "name": "ipython",
    "version": 3
   },
   "file_extension": ".py",
   "mimetype": "text/x-python",
   "name": "python",
   "nbconvert_exporter": "python",
   "pygments_lexer": "ipython3",
   "version": "3.11.6"
  }
 },
 "nbformat": 4,
 "nbformat_minor": 2
}
